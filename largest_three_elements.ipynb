{
  "nbformat": 4,
  "nbformat_minor": 0,
  "metadata": {
    "colab": {
      "name": "largest_three_elements.ipynb",
      "provenance": [],
      "collapsed_sections": [],
      "include_colab_link": true
    },
    "kernelspec": {
      "name": "python3",
      "display_name": "Python 3"
    },
    "language_info": {
      "name": "python"
    }
  },
  "cells": [
    {
      "cell_type": "markdown",
      "metadata": {
        "id": "view-in-github",
        "colab_type": "text"
      },
      "source": [
        "<a href=\"https://colab.research.google.com/github/tambatrahul/Chit-Chat-Web_Application/blob/main/largest_three_elements.ipynb\" target=\"_parent\"><img src=\"https://colab.research.google.com/assets/colab-badge.svg\" alt=\"Open In Colab\"/></a>"
      ]
    },
    {
      "cell_type": "markdown",
      "metadata": {
        "id": "PEuBm-Rj7OcT"
      },
      "source": [
        "Find the largest three elements in an array.\n",
        "\n",
        "Input:\n",
        "\n",
        "array = 20,12,40,84,56,33\n",
        "\n",
        "Output:\n",
        "\n",
        "84,56,40"
      ]
    },
    {
      "cell_type": "code",
      "metadata": {
        "id": "EFFwHDhi6uc-"
      },
      "source": [
        "import sys\n",
        "\n",
        "def three_largest_numbers(arr, arr_size):\n",
        "\n",
        "    if(arr_size < 3):\n",
        "        print(\"input is invalid\")\n",
        "        return\n",
        "\n",
        "    third = first = second = -sys.maxsize\n",
        "\n",
        "    for i in range(0, arr_size):\n",
        "        if(arr[i] > first):\n",
        "\n",
        "            third = second\n",
        "            second = first\n",
        "            first = arr[i]\n",
        "\n",
        "        elif(arr[i] > second):\n",
        "\n",
        "            third = second\n",
        "            second= arr[i]\n",
        "    print(\"three largest elements are\", first, second, third)\n",
        "\n",
        "arr = [20, 12, 40, 84, 56, 33]\n",
        "n = len(arr)\n",
        "three_largest_numbers(arr, n)"
      ],
      "execution_count": null,
      "outputs": []
    }
  ]
}